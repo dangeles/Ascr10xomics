{
 "cells": [
  {
   "cell_type": "code",
   "execution_count": 1,
   "id": "15338982",
   "metadata": {},
   "outputs": [],
   "source": [
    "import pandas as pd\n",
    "import numpy as np\n",
    "import scipy\n",
    "import matplotlib as mpl\n",
    "import matplotlib.pyplot as plt\n",
    "import seaborn as sns\n",
    "from matplotlib import rc\n",
    "\n",
    "rc('text', usetex=True)\n",
    "rc('text.latex', preamble=r'\\usepackage{cmbright}')\n",
    "rc('font', **{'family': 'sans-serif', 'sans-serif': ['Helvetica']})\n",
    "\n",
    "%matplotlib inline\n",
    "\n",
    "# This enables SVG graphics inline. \n",
    "%config InlineBackend.figure_formats = {'png', 'retina'}\n",
    "\n",
    "rc = {'lines.linewidth': 2, \n",
    "      'axes.labelsize': 18, \n",
    "      'axes.titlesize': 18, \n",
    "      'axes.facecolor': 'DFDFE5'}\n",
    "sns.set_context('notebook', rc=rc)\n",
    "sns.set_style(\"dark\")\n",
    "\n",
    "mpl.rcParams['xtick.labelsize'] = 16 \n",
    "mpl.rcParams['ytick.labelsize'] = 16 \n",
    "mpl.rcParams['legend.fontsize'] = 14"
   ]
  },
  {
   "cell_type": "code",
   "execution_count": 141,
   "id": "bb2e0183",
   "metadata": {},
   "outputs": [],
   "source": [
    "aging = pd.read_csv('../../AngelesLeighton2016/kallisto/si2_aging_analysis.csv', comment='#')\n",
    "fog = pd.read_csv('../../AngelesLeighton2016/kallisto/si3_genotype_analysis.csv', comment='#')\n",
    "female = pd.read_csv('../../AngelesLeighton2016/kallisto/si4_interaction_analysis.csv', comment='#')"
   ]
  },
  {
   "cell_type": "code",
   "execution_count": 189,
   "id": "3f806d9e",
   "metadata": {},
   "outputs": [],
   "source": [
    "aging = aging[aging.qval < 0.1].copy()\n",
    "fog = fog[fog.qval < 0.1].copy()\n",
    "female = female[female.qval < 0.1].copy()\n",
    "aging['analysis'] = 'aging'\n",
    "fog['analysis'] = 'fog'\n",
    "female['analysis'] = 'interaction'\n",
    "df = pd.concat([aging, fog, female])"
   ]
  },
  {
   "cell_type": "code",
   "execution_count": 190,
   "id": "7d4cfa41",
   "metadata": {},
   "outputs": [],
   "source": [
    "counts = df.groupby('target_id').analysis.count()"
   ]
  },
  {
   "cell_type": "code",
   "execution_count": 191,
   "id": "9d46c5ed",
   "metadata": {},
   "outputs": [
    {
     "name": "stdout",
     "output_type": "stream",
     "text": [
      "455\n"
     ]
    }
   ],
   "source": [
    "counts = counts[counts == 3].index\n",
    "print(len(counts))"
   ]
  },
  {
   "cell_type": "code",
   "execution_count": 192,
   "id": "72816fe5",
   "metadata": {},
   "outputs": [],
   "source": [
    "df = df[df.target_id.isin(counts)]"
   ]
  },
  {
   "cell_type": "code",
   "execution_count": null,
   "id": "6c770fd5",
   "metadata": {},
   "outputs": [],
   "source": []
  },
  {
   "cell_type": "code",
   "execution_count": 193,
   "id": "b3684347",
   "metadata": {},
   "outputs": [],
   "source": [
    "mat = df.pivot(index='target_id', columns='analysis', values='b')\n",
    "signed = mat.apply(np.sign).copy()\n",
    "female_state = (signed.aging == signed.fog) & (signed.interaction == - signed.aging)"
   ]
  },
  {
   "cell_type": "code",
   "execution_count": 194,
   "id": "955c4cc3",
   "metadata": {},
   "outputs": [
    {
     "data": {
      "text/plain": [
       "439"
      ]
     },
     "execution_count": 194,
     "metadata": {},
     "output_type": "execute_result"
    }
   ],
   "source": [
    "female_state.sum()"
   ]
  },
  {
   "cell_type": "code",
   "execution_count": 195,
   "id": "4b0ce3f3",
   "metadata": {},
   "outputs": [],
   "source": [
    "fem = df[df.target_id.isin(mat[female_state].index)].copy()"
   ]
  },
  {
   "cell_type": "code",
   "execution_count": 196,
   "id": "e99dd86f",
   "metadata": {},
   "outputs": [
    {
     "data": {
      "text/plain": [
       "429"
      ]
     },
     "execution_count": 196,
     "metadata": {},
     "output_type": "execute_result"
    }
   ],
   "source": [
    "fem.ens_gene.nunique()"
   ]
  },
  {
   "cell_type": "code",
   "execution_count": 197,
   "id": "c4e69693",
   "metadata": {},
   "outputs": [],
   "source": [
    "fem_genes = fem.groupby(['analysis', 'ens_gene']).b.apply(np.mean).reset_index()\n",
    "fem_genes = fem_genes[fem_genes.analysis.isin(['aging', 'fog'])].groupby('ens_gene').b.apply(np.mean)"
   ]
  },
  {
   "cell_type": "code",
   "execution_count": 213,
   "id": "51f15ed2",
   "metadata": {},
   "outputs": [
    {
     "name": "stdout",
     "output_type": "stream",
     "text": [
      "(359,)\n"
     ]
    }
   ],
   "source": [
    "print(fem_genes.shape)"
   ]
  },
  {
   "cell_type": "code",
   "execution_count": 214,
   "id": "712f6635",
   "metadata": {},
   "outputs": [],
   "source": [
    "res = pd.read_csv('../data/master_table.tsv', sep='\\t', index_col=0)\n",
    "fem_genes = fem_genes[fem_genes.index.isin(res.index)]"
   ]
  },
  {
   "cell_type": "code",
   "execution_count": 216,
   "id": "47e1f9f0",
   "metadata": {},
   "outputs": [
    {
     "data": {
      "text/plain": [
       "4.1021065851498376e-15"
      ]
     },
     "execution_count": 216,
     "metadata": {},
     "output_type": "execute_result"
    }
   ],
   "source": [
    "intersection = np.in1d(res[res.padj50 < 0.05].index, fem_genes.index.unique())\n",
    "scipy.stats.hypergeom.sf(intersection.sum(), len(res), fem_genes.index.nunique(), (res.padj50 < 0.05).sum())"
   ]
  },
  {
   "cell_type": "code",
   "execution_count": 217,
   "id": "0986c690",
   "metadata": {},
   "outputs": [],
   "source": [
    "femres = res[res.padj50 < 0.05][intersection]"
   ]
  },
  {
   "cell_type": "code",
   "execution_count": 218,
   "id": "f139f25a",
   "metadata": {},
   "outputs": [
    {
     "data": {
      "text/plain": [
       "<matplotlib.collections.PathCollection at 0x7fe7424612d0>"
      ]
     },
     "execution_count": 218,
     "metadata": {},
     "output_type": "execute_result"
    },
    {
     "data": {
      "image/png": "[encoded data removed]",
      "text/plain": [
       "<Figure size 432x288 with 1 Axes>"
      ]
     },
     "metadata": {
      "image/png": {
       "height": 255,
       "width": 379
      }
     },
     "output_type": "display_data"
    }
   ],
   "source": [
    "plt.scatter(femres.log2FoldChange50, fem_genes.reindex(femres.index) / np.log(2), alpha=0.5)\n"
   ]
  },
  {
   "cell_type": "code",
   "execution_count": 203,
   "id": "d453bb6a",
   "metadata": {},
   "outputs": [
    {
     "data": {
      "text/plain": [
       "<matplotlib.collections.PathCollection at 0x7fe73bec1590>"
      ]
     },
     "execution_count": 203,
     "metadata": {},
     "output_type": "execute_result"
    },
    {
     "data": {
      "image/png": "[encoded data removed]",
      "text/plain": [
       "<Figure size 432x288 with 1 Axes>"
      ]
     },
     "metadata": {
      "image/png": {
       "height": 255,
       "width": 379
      }
     },
     "output_type": "display_data"
    }
   ],
   "source": [
    "intersection = np.in1d(res[res.padj58 < 0.05].index, fem_genes.index.unique())\n",
    "scipy.stats.hypergeom.sf(intersection.sum(), len(res), fem_genes.index.nunique(), (res.padj58 < 0.05).sum())\n",
    "femres = res[res.padj58 < 0.05][intersection]\n",
    "plt.scatter(femres.log2FoldChange58, fem_genes.reindex(femres.index) / np.log(2), alpha=0.5)\n"
   ]
  },
  {
   "cell_type": "code",
   "execution_count": 186,
   "id": "53352fb3",
   "metadata": {},
   "outputs": [
    {
     "data": {
      "text/plain": [
       "0.005877559736172351"
      ]
     },
     "execution_count": 186,
     "metadata": {},
     "output_type": "execute_result"
    }
   ],
   "source": [
    "scipy.stats.hypergeom.sf(intersection.sum(), len(res), fem_genes.index.nunique(), (res.padj58 < 0.05).sum())"
   ]
  },
  {
   "cell_type": "code",
   "execution_count": 212,
   "id": "0b29a8d2",
   "metadata": {},
   "outputs": [
    {
     "data": {
      "text/html": [
       "<div>\n",
       "<style scoped>\n",
       "    .dataframe tbody tr th:only-of-type {\n",
       "        vertical-align: middle;\n",
       "    }\n",
       "\n",
       "    .dataframe tbody tr th {\n",
       "        vertical-align: top;\n",
       "    }\n",
       "\n",
       "    .dataframe thead th {\n",
       "        text-align: right;\n",
       "    }\n",
       "</style>\n",
       "<table border=\"1\" class=\"dataframe\">\n",
       "  <thead>\n",
       "    <tr style=\"text-align: right;\">\n",
       "      <th></th>\n",
       "      <th>externalgenename</th>\n",
       "      <th>padj50</th>\n",
       "      <th>padj58</th>\n",
       "      <th>log2FoldChange50</th>\n",
       "      <th>log2FoldChange58</th>\n",
       "    </tr>\n",
       "  </thead>\n",
       "  <tbody>\n",
       "    <tr>\n",
       "      <th>WBGene00000699</th>\n",
       "      <td>col-125</td>\n",
       "      <td>1.740184e-75</td>\n",
       "      <td>5.347962e-14</td>\n",
       "      <td>-0.425134</td>\n",
       "      <td>-1.174739</td>\n",
       "    </tr>\n",
       "    <tr>\n",
       "      <th>WBGene00003730</th>\n",
       "      <td>nhx-2</td>\n",
       "      <td>6.839789e-03</td>\n",
       "      <td>4.213168e-01</td>\n",
       "      <td>0.136922</td>\n",
       "      <td>0.110014</td>\n",
       "    </tr>\n",
       "    <tr>\n",
       "      <th>WBGene00005552</th>\n",
       "      <td>sri-40</td>\n",
       "      <td>3.465420e-02</td>\n",
       "      <td>9.458965e-01</td>\n",
       "      <td>0.243750</td>\n",
       "      <td>0.027373</td>\n",
       "    </tr>\n",
       "    <tr>\n",
       "      <th>WBGene00007536</th>\n",
       "      <td>daf-36</td>\n",
       "      <td>3.626030e-02</td>\n",
       "      <td>3.828174e-01</td>\n",
       "      <td>0.345258</td>\n",
       "      <td>0.284457</td>\n",
       "    </tr>\n",
       "    <tr>\n",
       "      <th>WBGene00008566</th>\n",
       "      <td>acox-1.3</td>\n",
       "      <td>2.937562e-08</td>\n",
       "      <td>2.977165e-01</td>\n",
       "      <td>0.358261</td>\n",
       "      <td>0.151324</td>\n",
       "    </tr>\n",
       "    <tr>\n",
       "      <th>WBGene00009818</th>\n",
       "      <td>acbp-3</td>\n",
       "      <td>4.251700e-02</td>\n",
       "      <td>7.673025e-01</td>\n",
       "      <td>0.369079</td>\n",
       "      <td>0.195476</td>\n",
       "    </tr>\n",
       "  </tbody>\n",
       "</table>\n",
       "</div>"
      ],
      "text/plain": [
       "               externalgenename        padj50        padj58  log2FoldChange50  \\\n",
       "WBGene00000699          col-125  1.740184e-75  5.347962e-14         -0.425134   \n",
       "WBGene00003730            nhx-2  6.839789e-03  4.213168e-01          0.136922   \n",
       "WBGene00005552           sri-40  3.465420e-02  9.458965e-01          0.243750   \n",
       "WBGene00007536           daf-36  3.626030e-02  3.828174e-01          0.345258   \n",
       "WBGene00008566         acox-1.3  2.937562e-08  2.977165e-01          0.358261   \n",
       "WBGene00009818           acbp-3  4.251700e-02  7.673025e-01          0.369079   \n",
       "\n",
       "                log2FoldChange58  \n",
       "WBGene00000699         -1.174739  \n",
       "WBGene00003730          0.110014  \n",
       "WBGene00005552          0.027373  \n",
       "WBGene00007536          0.284457  \n",
       "WBGene00008566          0.151324  \n",
       "WBGene00009818          0.195476  "
      ]
     },
     "execution_count": 212,
     "metadata": {},
     "output_type": "execute_result"
    }
   ],
   "source": [
    "cond = (res.externalgenename.isin(['sri-40', 'ins-11', 'ins-12', 'acbp-3', 'delm-2', 'acd-1', 'nhx-2', 'daf-36', 'acox-1.3', 'cyp-25A3', 'col-43', 'col-125', 'wrt-10', 'lpr-6']))\n",
    "res[cond & (res.padj50 < 0.05)][['externalgenename','padj50', 'padj58', 'log2FoldChange50', 'log2FoldChange58']]"
   ]
  },
  {
   "cell_type": "code",
   "execution_count": 211,
   "id": "bc61fd6b",
   "metadata": {},
   "outputs": [
    {
     "data": {
      "text/html": [
       "<div>\n",
       "<style scoped>\n",
       "    .dataframe tbody tr th:only-of-type {\n",
       "        vertical-align: middle;\n",
       "    }\n",
       "\n",
       "    .dataframe tbody tr th {\n",
       "        vertical-align: top;\n",
       "    }\n",
       "\n",
       "    .dataframe thead th {\n",
       "        text-align: right;\n",
       "    }\n",
       "</style>\n",
       "<table border=\"1\" class=\"dataframe\">\n",
       "  <thead>\n",
       "    <tr style=\"text-align: right;\">\n",
       "      <th></th>\n",
       "      <th>externalgenename</th>\n",
       "      <th>padj50</th>\n",
       "      <th>padj58</th>\n",
       "      <th>log2FoldChange50</th>\n",
       "      <th>log2FoldChange58</th>\n",
       "    </tr>\n",
       "  </thead>\n",
       "  <tbody>\n",
       "    <tr>\n",
       "      <th>WBGene00000699</th>\n",
       "      <td>col-125</td>\n",
       "      <td>1.740184e-75</td>\n",
       "      <td>5.347962e-14</td>\n",
       "      <td>-0.425134</td>\n",
       "      <td>-1.174739</td>\n",
       "    </tr>\n",
       "  </tbody>\n",
       "</table>\n",
       "</div>"
      ],
      "text/plain": [
       "               externalgenename        padj50        padj58  log2FoldChange50  \\\n",
       "WBGene00000699          col-125  1.740184e-75  5.347962e-14         -0.425134   \n",
       "\n",
       "                log2FoldChange58  \n",
       "WBGene00000699         -1.174739  "
      ]
     },
     "execution_count": 211,
     "metadata": {},
     "output_type": "execute_result"
    }
   ],
   "source": [
    "res[cond & (res.padj58 < 0.05)][['externalgenename','padj50', 'padj58', 'log2FoldChange50', 'log2FoldChange58']]"
   ]
  },
  {
   "cell_type": "code",
   "execution_count": 224,
   "id": "c611d639",
   "metadata": {},
   "outputs": [
    {
     "data": {
      "text/html": [
       "<div>\n",
       "<style scoped>\n",
       "    .dataframe tbody tr th:only-of-type {\n",
       "        vertical-align: middle;\n",
       "    }\n",
       "\n",
       "    .dataframe tbody tr th {\n",
       "        vertical-align: top;\n",
       "    }\n",
       "\n",
       "    .dataframe thead th {\n",
       "        text-align: right;\n",
       "    }\n",
       "</style>\n",
       "<table border=\"1\" class=\"dataframe\">\n",
       "  <thead>\n",
       "    <tr style=\"text-align: right;\">\n",
       "      <th></th>\n",
       "      <th>externalgenename</th>\n",
       "      <th>log2FoldChange50</th>\n",
       "    </tr>\n",
       "  </thead>\n",
       "  <tbody>\n",
       "    <tr>\n",
       "      <th>WBGene00018707</th>\n",
       "      <td>oac-31</td>\n",
       "      <td>-0.611912</td>\n",
       "    </tr>\n",
       "    <tr>\n",
       "      <th>WBGene00018418</th>\n",
       "      <td>F44E2.4</td>\n",
       "      <td>-0.443433</td>\n",
       "    </tr>\n",
       "    <tr>\n",
       "      <th>WBGene00020902</th>\n",
       "      <td>jmjc-1</td>\n",
       "      <td>-0.437464</td>\n",
       "    </tr>\n",
       "    <tr>\n",
       "      <th>WBGene00007228</th>\n",
       "      <td>acs-7</td>\n",
       "      <td>-0.356655</td>\n",
       "    </tr>\n",
       "    <tr>\n",
       "      <th>WBGene00012339</th>\n",
       "      <td>W07G4.5</td>\n",
       "      <td>-0.350569</td>\n",
       "    </tr>\n",
       "    <tr>\n",
       "      <th>WBGene00022649</th>\n",
       "      <td>ZK84.1</td>\n",
       "      <td>-0.310391</td>\n",
       "    </tr>\n",
       "    <tr>\n",
       "      <th>WBGene00013875</th>\n",
       "      <td>ZC376.3</td>\n",
       "      <td>-0.296510</td>\n",
       "    </tr>\n",
       "    <tr>\n",
       "      <th>WBGene00017471</th>\n",
       "      <td>F14H12.3</td>\n",
       "      <td>-0.281749</td>\n",
       "    </tr>\n",
       "    <tr>\n",
       "      <th>WBGene00017071</th>\n",
       "      <td>aagr-1</td>\n",
       "      <td>-0.256258</td>\n",
       "    </tr>\n",
       "    <tr>\n",
       "      <th>WBGene00000708</th>\n",
       "      <td>col-135</td>\n",
       "      <td>-0.235997</td>\n",
       "    </tr>\n",
       "    <tr>\n",
       "      <th>WBGene00003388</th>\n",
       "      <td>moe-3</td>\n",
       "      <td>-0.224882</td>\n",
       "    </tr>\n",
       "    <tr>\n",
       "      <th>WBGene00006331</th>\n",
       "      <td>sup-26</td>\n",
       "      <td>-0.163968</td>\n",
       "    </tr>\n",
       "    <tr>\n",
       "      <th>WBGene00009532</th>\n",
       "      <td>ccch-1</td>\n",
       "      <td>-0.143744</td>\n",
       "    </tr>\n",
       "    <tr>\n",
       "      <th>WBGene00007508</th>\n",
       "      <td>C10C5.4</td>\n",
       "      <td>-0.136326</td>\n",
       "    </tr>\n",
       "    <tr>\n",
       "      <th>WBGene00007578</th>\n",
       "      <td>NaN</td>\n",
       "      <td>-0.128204</td>\n",
       "    </tr>\n",
       "    <tr>\n",
       "      <th>WBGene00019298</th>\n",
       "      <td>K02D7.1</td>\n",
       "      <td>-0.127266</td>\n",
       "    </tr>\n",
       "    <tr>\n",
       "      <th>WBGene00017834</th>\n",
       "      <td>F26F12.3</td>\n",
       "      <td>-0.125464</td>\n",
       "    </tr>\n",
       "    <tr>\n",
       "      <th>WBGene00002979</th>\n",
       "      <td>lfe-2</td>\n",
       "      <td>-0.125396</td>\n",
       "    </tr>\n",
       "    <tr>\n",
       "      <th>WBGene00022610</th>\n",
       "      <td>ltah-1.2</td>\n",
       "      <td>-0.123917</td>\n",
       "    </tr>\n",
       "    <tr>\n",
       "      <th>WBGene00022719</th>\n",
       "      <td>pdhk-2</td>\n",
       "      <td>-0.109196</td>\n",
       "    </tr>\n",
       "    <tr>\n",
       "      <th>WBGene00016630</th>\n",
       "      <td>acer-1</td>\n",
       "      <td>-0.091505</td>\n",
       "    </tr>\n",
       "    <tr>\n",
       "      <th>WBGene00010681</th>\n",
       "      <td>mak-1</td>\n",
       "      <td>-0.087583</td>\n",
       "    </tr>\n",
       "    <tr>\n",
       "      <th>WBGene00006436</th>\n",
       "      <td>ttn-1</td>\n",
       "      <td>-0.081941</td>\n",
       "    </tr>\n",
       "    <tr>\n",
       "      <th>WBGene00009394</th>\n",
       "      <td>clec-63</td>\n",
       "      <td>-0.060024</td>\n",
       "    </tr>\n",
       "    <tr>\n",
       "      <th>WBGene00006439</th>\n",
       "      <td>ant-1.1</td>\n",
       "      <td>0.036725</td>\n",
       "    </tr>\n",
       "    <tr>\n",
       "      <th>WBGene00004446</th>\n",
       "      <td>rpl-32</td>\n",
       "      <td>0.050684</td>\n",
       "    </tr>\n",
       "    <tr>\n",
       "      <th>WBGene00000214</th>\n",
       "      <td>asp-1</td>\n",
       "      <td>0.050706</td>\n",
       "    </tr>\n",
       "    <tr>\n",
       "      <th>WBGene00004430</th>\n",
       "      <td>rpl-18</td>\n",
       "      <td>0.055753</td>\n",
       "    </tr>\n",
       "    <tr>\n",
       "      <th>WBGene00022042</th>\n",
       "      <td>icd-2</td>\n",
       "      <td>0.063459</td>\n",
       "    </tr>\n",
       "    <tr>\n",
       "      <th>WBGene00004419</th>\n",
       "      <td>rpl-7A</td>\n",
       "      <td>0.064320</td>\n",
       "    </tr>\n",
       "    <tr>\n",
       "      <th>WBGene00004477</th>\n",
       "      <td>rps-8</td>\n",
       "      <td>0.065191</td>\n",
       "    </tr>\n",
       "    <tr>\n",
       "      <th>WBGene00004492</th>\n",
       "      <td>rps-23</td>\n",
       "      <td>0.066199</td>\n",
       "    </tr>\n",
       "    <tr>\n",
       "      <th>WBGene00004417</th>\n",
       "      <td>rpl-6</td>\n",
       "      <td>0.066381</td>\n",
       "    </tr>\n",
       "    <tr>\n",
       "      <th>WBGene00000788</th>\n",
       "      <td>cpz-1</td>\n",
       "      <td>0.066772</td>\n",
       "    </tr>\n",
       "    <tr>\n",
       "      <th>WBGene00002053</th>\n",
       "      <td>ifb-1</td>\n",
       "      <td>0.069466</td>\n",
       "    </tr>\n",
       "    <tr>\n",
       "      <th>WBGene00014095</th>\n",
       "      <td>gdh-1</td>\n",
       "      <td>0.069733</td>\n",
       "    </tr>\n",
       "    <tr>\n",
       "      <th>WBGene00004412</th>\n",
       "      <td>rpl-1</td>\n",
       "      <td>0.071065</td>\n",
       "    </tr>\n",
       "    <tr>\n",
       "      <th>WBGene00012768</th>\n",
       "      <td>eef-1B.2</td>\n",
       "      <td>0.072704</td>\n",
       "    </tr>\n",
       "    <tr>\n",
       "      <th>WBGene00009259</th>\n",
       "      <td>hpo-34</td>\n",
       "      <td>0.075684</td>\n",
       "    </tr>\n",
       "    <tr>\n",
       "      <th>WBGene00004444</th>\n",
       "      <td>rpl-30</td>\n",
       "      <td>0.080326</td>\n",
       "    </tr>\n",
       "  </tbody>\n",
       "</table>\n",
       "</div>"
      ],
      "text/plain": [
       "               externalgenename  log2FoldChange50\n",
       "WBGene00018707           oac-31         -0.611912\n",
       "WBGene00018418          F44E2.4         -0.443433\n",
       "WBGene00020902           jmjc-1         -0.437464\n",
       "WBGene00007228            acs-7         -0.356655\n",
       "WBGene00012339          W07G4.5         -0.350569\n",
       "WBGene00022649           ZK84.1         -0.310391\n",
       "WBGene00013875          ZC376.3         -0.296510\n",
       "WBGene00017471         F14H12.3         -0.281749\n",
       "WBGene00017071           aagr-1         -0.256258\n",
       "WBGene00000708          col-135         -0.235997\n",
       "WBGene00003388            moe-3         -0.224882\n",
       "WBGene00006331           sup-26         -0.163968\n",
       "WBGene00009532           ccch-1         -0.143744\n",
       "WBGene00007508          C10C5.4         -0.136326\n",
       "WBGene00007578              NaN         -0.128204\n",
       "WBGene00019298          K02D7.1         -0.127266\n",
       "WBGene00017834         F26F12.3         -0.125464\n",
       "WBGene00002979            lfe-2         -0.125396\n",
       "WBGene00022610         ltah-1.2         -0.123917\n",
       "WBGene00022719           pdhk-2         -0.109196\n",
       "WBGene00016630           acer-1         -0.091505\n",
       "WBGene00010681            mak-1         -0.087583\n",
       "WBGene00006436            ttn-1         -0.081941\n",
       "WBGene00009394          clec-63         -0.060024\n",
       "WBGene00006439          ant-1.1          0.036725\n",
       "WBGene00004446           rpl-32          0.050684\n",
       "WBGene00000214            asp-1          0.050706\n",
       "WBGene00004430           rpl-18          0.055753\n",
       "WBGene00022042            icd-2          0.063459\n",
       "WBGene00004419           rpl-7A          0.064320\n",
       "WBGene00004477            rps-8          0.065191\n",
       "WBGene00004492           rps-23          0.066199\n",
       "WBGene00004417            rpl-6          0.066381\n",
       "WBGene00000788            cpz-1          0.066772\n",
       "WBGene00002053            ifb-1          0.069466\n",
       "WBGene00014095            gdh-1          0.069733\n",
       "WBGene00004412            rpl-1          0.071065\n",
       "WBGene00012768         eef-1B.2          0.072704\n",
       "WBGene00009259           hpo-34          0.075684\n",
       "WBGene00004444           rpl-30          0.080326"
      ]
     },
     "execution_count": 224,
     "metadata": {},
     "output_type": "execute_result"
    }
   ],
   "source": [
    "femres[['externalgenename', 'log2FoldChange50']].sort_values('log2FoldChange50').head(40)"
   ]
  },
  {
   "cell_type": "code",
   "execution_count": 225,
   "id": "d1d58678",
   "metadata": {},
   "outputs": [
    {
     "data": {
      "text/html": [
       "<div>\n",
       "<style scoped>\n",
       "    .dataframe tbody tr th:only-of-type {\n",
       "        vertical-align: middle;\n",
       "    }\n",
       "\n",
       "    .dataframe tbody tr th {\n",
       "        vertical-align: top;\n",
       "    }\n",
       "\n",
       "    .dataframe thead th {\n",
       "        text-align: right;\n",
       "    }\n",
       "</style>\n",
       "<table border=\"1\" class=\"dataframe\">\n",
       "  <thead>\n",
       "    <tr style=\"text-align: right;\">\n",
       "      <th></th>\n",
       "      <th>externalgenename</th>\n",
       "      <th>log2FoldChange50</th>\n",
       "    </tr>\n",
       "  </thead>\n",
       "  <tbody>\n",
       "    <tr>\n",
       "      <th>WBGene00044080</th>\n",
       "      <td>D1086.10</td>\n",
       "      <td>0.130268</td>\n",
       "    </tr>\n",
       "    <tr>\n",
       "      <th>WBGene00006913</th>\n",
       "      <td>vha-4</td>\n",
       "      <td>0.131077</td>\n",
       "    </tr>\n",
       "    <tr>\n",
       "      <th>WBGene00006438</th>\n",
       "      <td>nrfl-1</td>\n",
       "      <td>0.131489</td>\n",
       "    </tr>\n",
       "    <tr>\n",
       "      <th>WBGene00011259</th>\n",
       "      <td>miz-1</td>\n",
       "      <td>0.134746</td>\n",
       "    </tr>\n",
       "    <tr>\n",
       "      <th>WBGene00021869</th>\n",
       "      <td>vrp-1</td>\n",
       "      <td>0.136745</td>\n",
       "    </tr>\n",
       "    <tr>\n",
       "      <th>WBGene00002879</th>\n",
       "      <td>let-754</td>\n",
       "      <td>0.136773</td>\n",
       "    </tr>\n",
       "    <tr>\n",
       "      <th>WBGene00020517</th>\n",
       "      <td>hpo-8</td>\n",
       "      <td>0.144594</td>\n",
       "    </tr>\n",
       "    <tr>\n",
       "      <th>WBGene00006930</th>\n",
       "      <td>vit-6</td>\n",
       "      <td>0.153215</td>\n",
       "    </tr>\n",
       "    <tr>\n",
       "      <th>WBGene00000114</th>\n",
       "      <td>alh-8</td>\n",
       "      <td>0.161635</td>\n",
       "    </tr>\n",
       "    <tr>\n",
       "      <th>WBGene00004000</th>\n",
       "      <td>pgp-6</td>\n",
       "      <td>0.162073</td>\n",
       "    </tr>\n",
       "    <tr>\n",
       "      <th>WBGene00022599</th>\n",
       "      <td>daf-41</td>\n",
       "      <td>0.163924</td>\n",
       "    </tr>\n",
       "    <tr>\n",
       "      <th>WBGene00008446</th>\n",
       "      <td>E01G4.3</td>\n",
       "      <td>0.167955</td>\n",
       "    </tr>\n",
       "    <tr>\n",
       "      <th>WBGene00004096</th>\n",
       "      <td>pqm-1</td>\n",
       "      <td>0.168193</td>\n",
       "    </tr>\n",
       "    <tr>\n",
       "      <th>WBGene00004875</th>\n",
       "      <td>smd-1</td>\n",
       "      <td>0.170666</td>\n",
       "    </tr>\n",
       "    <tr>\n",
       "      <th>WBGene00020166</th>\n",
       "      <td>T02G5.7</td>\n",
       "      <td>0.175607</td>\n",
       "    </tr>\n",
       "    <tr>\n",
       "      <th>WBGene00010007</th>\n",
       "      <td>F53H4.2</td>\n",
       "      <td>0.180303</td>\n",
       "    </tr>\n",
       "    <tr>\n",
       "      <th>WBGene00002891</th>\n",
       "      <td>let-767</td>\n",
       "      <td>0.187142</td>\n",
       "    </tr>\n",
       "    <tr>\n",
       "      <th>WBGene00019914</th>\n",
       "      <td>clec-150</td>\n",
       "      <td>0.189664</td>\n",
       "    </tr>\n",
       "    <tr>\n",
       "      <th>WBGene00002008</th>\n",
       "      <td>hsp-4</td>\n",
       "      <td>0.190870</td>\n",
       "    </tr>\n",
       "    <tr>\n",
       "      <th>WBGene00017969</th>\n",
       "      <td>F32A5.3</td>\n",
       "      <td>0.191037</td>\n",
       "    </tr>\n",
       "    <tr>\n",
       "      <th>WBGene00008378</th>\n",
       "      <td>ule-3</td>\n",
       "      <td>0.198673</td>\n",
       "    </tr>\n",
       "    <tr>\n",
       "      <th>WBGene00008595</th>\n",
       "      <td>clec-56</td>\n",
       "      <td>0.203506</td>\n",
       "    </tr>\n",
       "    <tr>\n",
       "      <th>WBGene00010204</th>\n",
       "      <td>F57F5.1</td>\n",
       "      <td>0.207164</td>\n",
       "    </tr>\n",
       "    <tr>\n",
       "      <th>WBGene00012747</th>\n",
       "      <td>Y40H7A.10</td>\n",
       "      <td>0.211791</td>\n",
       "    </tr>\n",
       "    <tr>\n",
       "      <th>WBGene00001775</th>\n",
       "      <td>gst-27</td>\n",
       "      <td>0.218728</td>\n",
       "    </tr>\n",
       "    <tr>\n",
       "      <th>WBGene00001501</th>\n",
       "      <td>ftn-2</td>\n",
       "      <td>0.228995</td>\n",
       "    </tr>\n",
       "    <tr>\n",
       "      <th>WBGene00004358</th>\n",
       "      <td>rhr-1</td>\n",
       "      <td>0.234234</td>\n",
       "    </tr>\n",
       "    <tr>\n",
       "      <th>WBGene00000281</th>\n",
       "      <td>cah-3</td>\n",
       "      <td>0.240842</td>\n",
       "    </tr>\n",
       "    <tr>\n",
       "      <th>WBGene00010470</th>\n",
       "      <td>cdr-4</td>\n",
       "      <td>0.244500</td>\n",
       "    </tr>\n",
       "    <tr>\n",
       "      <th>WBGene00007812</th>\n",
       "      <td>C29F7.3</td>\n",
       "      <td>0.244619</td>\n",
       "    </tr>\n",
       "    <tr>\n",
       "      <th>WBGene00010133</th>\n",
       "      <td>F55H12.2</td>\n",
       "      <td>0.245559</td>\n",
       "    </tr>\n",
       "    <tr>\n",
       "      <th>WBGene00045394</th>\n",
       "      <td>ZK813.7</td>\n",
       "      <td>0.248892</td>\n",
       "    </tr>\n",
       "    <tr>\n",
       "      <th>WBGene00007365</th>\n",
       "      <td>C06B3.6</td>\n",
       "      <td>0.255590</td>\n",
       "    </tr>\n",
       "    <tr>\n",
       "      <th>WBGene00013238</th>\n",
       "      <td>trap-4</td>\n",
       "      <td>0.268370</td>\n",
       "    </tr>\n",
       "    <tr>\n",
       "      <th>WBGene00021768</th>\n",
       "      <td>Y51F10.7</td>\n",
       "      <td>0.285808</td>\n",
       "    </tr>\n",
       "    <tr>\n",
       "      <th>WBGene00013037</th>\n",
       "      <td>Y49E10.18</td>\n",
       "      <td>0.286402</td>\n",
       "    </tr>\n",
       "    <tr>\n",
       "      <th>WBGene00019963</th>\n",
       "      <td>R08E5.3</td>\n",
       "      <td>0.303722</td>\n",
       "    </tr>\n",
       "    <tr>\n",
       "      <th>WBGene00008566</th>\n",
       "      <td>acox-1.3</td>\n",
       "      <td>0.358261</td>\n",
       "    </tr>\n",
       "    <tr>\n",
       "      <th>WBGene00021743</th>\n",
       "      <td>Y50D4B.4</td>\n",
       "      <td>0.452152</td>\n",
       "    </tr>\n",
       "    <tr>\n",
       "      <th>WBGene00007808</th>\n",
       "      <td>best-7</td>\n",
       "      <td>0.465117</td>\n",
       "    </tr>\n",
       "  </tbody>\n",
       "</table>\n",
       "</div>"
      ],
      "text/plain": [
       "               externalgenename  log2FoldChange50\n",
       "WBGene00044080         D1086.10          0.130268\n",
       "WBGene00006913            vha-4          0.131077\n",
       "WBGene00006438           nrfl-1          0.131489\n",
       "WBGene00011259            miz-1          0.134746\n",
       "WBGene00021869            vrp-1          0.136745\n",
       "WBGene00002879          let-754          0.136773\n",
       "WBGene00020517            hpo-8          0.144594\n",
       "WBGene00006930            vit-6          0.153215\n",
       "WBGene00000114            alh-8          0.161635\n",
       "WBGene00004000            pgp-6          0.162073\n",
       "WBGene00022599           daf-41          0.163924\n",
       "WBGene00008446          E01G4.3          0.167955\n",
       "WBGene00004096            pqm-1          0.168193\n",
       "WBGene00004875            smd-1          0.170666\n",
       "WBGene00020166          T02G5.7          0.175607\n",
       "WBGene00010007          F53H4.2          0.180303\n",
       "WBGene00002891          let-767          0.187142\n",
       "WBGene00019914         clec-150          0.189664\n",
       "WBGene00002008            hsp-4          0.190870\n",
       "WBGene00017969          F32A5.3          0.191037\n",
       "WBGene00008378            ule-3          0.198673\n",
       "WBGene00008595          clec-56          0.203506\n",
       "WBGene00010204          F57F5.1          0.207164\n",
       "WBGene00012747        Y40H7A.10          0.211791\n",
       "WBGene00001775           gst-27          0.218728\n",
       "WBGene00001501            ftn-2          0.228995\n",
       "WBGene00004358            rhr-1          0.234234\n",
       "WBGene00000281            cah-3          0.240842\n",
       "WBGene00010470            cdr-4          0.244500\n",
       "WBGene00007812          C29F7.3          0.244619\n",
       "WBGene00010133         F55H12.2          0.245559\n",
       "WBGene00045394          ZK813.7          0.248892\n",
       "WBGene00007365          C06B3.6          0.255590\n",
       "WBGene00013238           trap-4          0.268370\n",
       "WBGene00021768         Y51F10.7          0.285808\n",
       "WBGene00013037        Y49E10.18          0.286402\n",
       "WBGene00019963          R08E5.3          0.303722\n",
       "WBGene00008566         acox-1.3          0.358261\n",
       "WBGene00021743         Y50D4B.4          0.452152\n",
       "WBGene00007808           best-7          0.465117"
      ]
     },
     "execution_count": 225,
     "metadata": {},
     "output_type": "execute_result"
    }
   ],
   "source": [
    "femres[['externalgenename', 'log2FoldChange50']].sort_values('log2FoldChange50').tail(40)"
   ]
  },
  {
   "cell_type": "code",
   "execution_count": 223,
   "id": "92ed70c0",
   "metadata": {},
   "outputs": [
    {
     "data": {
      "text/plain": [
       "(108, 48)"
      ]
     },
     "execution_count": 223,
     "metadata": {},
     "output_type": "execute_result"
    }
   ],
   "source": [
    "femres.shape"
   ]
  },
  {
   "cell_type": "code",
   "execution_count": null,
   "id": "1fc22481",
   "metadata": {},
   "outputs": [],
   "source": []
  }
 ],
 "metadata": {
  "kernelspec": {
   "display_name": "Python 3",
   "language": "python",
   "name": "python3"
  },
  "language_info": {
   "codemirror_mode": {
    "name": "ipython",
    "version": 3
   },
   "file_extension": ".py",
   "mimetype": "text/x-python",
   "name": "python",
   "nbconvert_exporter": "python",
   "pygments_lexer": "ipython3",
   "version": "3.7.10"
  },
  "toc": {
   "base_numbering": 1,
   "nav_menu": {},
   "number_sections": true,
   "sideBar": true,
   "skip_h1_title": false,
   "title_cell": "Table of Contents",
   "title_sidebar": "Contents",
   "toc_cell": false,
   "toc_position": {},
   "toc_section_display": true,
   "toc_window_display": false
  }
 },
 "nbformat": 4,
 "nbformat_minor": 5
}

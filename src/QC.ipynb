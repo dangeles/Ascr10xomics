{
 "cells": [
  {
   "cell_type": "code",
   "execution_count": 1,
   "id": "e262f4b9",
   "metadata": {},
   "outputs": [],
   "source": [
    "import pandas as pd\n",
    "import numpy as np\n",
    "import scipy\n",
    "import matplotlib as mpl\n",
    "import matplotlib.pyplot as plt\n",
    "import seaborn as sns\n",
    "\n",
    "from matplotlib import rc\n",
    "rc('text', usetex=True)\n",
    "rc('text.latex', preamble=r'\\usepackage{cmbright}')\n",
    "rc('font', **{'family': 'sans-serif', 'sans-serif': ['Helvetica']})\n",
    "\n",
    "%matplotlib inline\n",
    "\n",
    "# This enables SVG graphics inline. \n",
    "%config InlineBackend.figure_formats = {'png', 'retina'}\n",
    "\n",
    "rc = {'lines.linewidth': 2, \n",
    "      'axes.labelsize': 18, \n",
    "      'axes.titlesize': 18, \n",
    "      'axes.facecolor': 'DFDFE5'}\n",
    "sns.set_context('notebook', rc=rc)\n",
    "sns.set_style(\"dark\")\n",
    "\n",
    "mpl.rcParams['xtick.labelsize'] = 16 \n",
    "mpl.rcParams['ytick.labelsize'] = 16 \n",
    "mpl.rcParams['legend.fontsize'] = 14\n",
    "\n",
    "\n",
    "res = pd.read_csv('../data/master_table.tsv', sep='\\t', index_col=0)\n",
    "res = res[res.chromosome_name != 'MtDNA']\n",
    "res = res[(res.padj_58 < 0.05) | (res.padj_50 < 0.05)]\n",
    "\n",
    "df = pd.read_csv('/Users/davidangeles/Documents/matrix.csv')"
   ]
  },
  {
   "cell_type": "code",
   "execution_count": 43,
   "id": "8561dffc",
   "metadata": {},
   "outputs": [
    {
     "data": {
      "text/html": [
       "<div>\n",
       "<style scoped>\n",
       "    .dataframe tbody tr th:only-of-type {\n",
       "        vertical-align: middle;\n",
       "    }\n",
       "\n",
       "    .dataframe tbody tr th {\n",
       "        vertical-align: top;\n",
       "    }\n",
       "\n",
       "    .dataframe thead th {\n",
       "        text-align: right;\n",
       "    }\n",
       "</style>\n",
       "<table border=\"1\" class=\"dataframe\">\n",
       "  <thead>\n",
       "    <tr style=\"text-align: right;\">\n",
       "      <th></th>\n",
       "      <th>cnt50.1_S1_L001_R1_001</th>\n",
       "      <th>cnt50.2_S2_L001_R1_001</th>\n",
       "      <th>cnt50.3_S3_L001_R1_001</th>\n",
       "      <th>ascr50.1_S4_L001_R1_001</th>\n",
       "      <th>ascr50.2_S5_L001_R1_001</th>\n",
       "      <th>ascr50.3_S6_L001_R1_001</th>\n",
       "      <th>cnt58.1_S7_L001_R1_001</th>\n",
       "      <th>cnt58.2_S8_L001_R1_001</th>\n",
       "      <th>cnt58.3_S9_L001_R1_001</th>\n",
       "      <th>ascr58.1_S10_L001_R1_001</th>\n",
       "      <th>ascr58.2_S11_L001_R1_001</th>\n",
       "      <th>ascr58.3_S12_L001_R1_001</th>\n",
       "    </tr>\n",
       "  </thead>\n",
       "  <tbody>\n",
       "    <tr>\n",
       "      <th>WBGene00000001</th>\n",
       "      <td>1.804216</td>\n",
       "      <td>1.806938</td>\n",
       "      <td>1.834171</td>\n",
       "      <td>1.801196</td>\n",
       "      <td>1.803592</td>\n",
       "      <td>1.794293</td>\n",
       "      <td>1.932386</td>\n",
       "      <td>1.937716</td>\n",
       "      <td>1.945838</td>\n",
       "      <td>1.929080</td>\n",
       "      <td>1.927554</td>\n",
       "      <td>1.943492</td>\n",
       "    </tr>\n",
       "    <tr>\n",
       "      <th>WBGene00000002</th>\n",
       "      <td>0.584929</td>\n",
       "      <td>0.675659</td>\n",
       "      <td>0.795318</td>\n",
       "      <td>0.699898</td>\n",
       "      <td>0.631482</td>\n",
       "      <td>0.679446</td>\n",
       "      <td>0.252079</td>\n",
       "      <td>0.349814</td>\n",
       "      <td>0.390338</td>\n",
       "      <td>0.414264</td>\n",
       "      <td>0.334758</td>\n",
       "      <td>0.401087</td>\n",
       "    </tr>\n",
       "    <tr>\n",
       "      <th>WBGene00000003</th>\n",
       "      <td>1.055034</td>\n",
       "      <td>1.038837</td>\n",
       "      <td>1.008447</td>\n",
       "      <td>1.110409</td>\n",
       "      <td>1.082723</td>\n",
       "      <td>1.075585</td>\n",
       "      <td>0.743166</td>\n",
       "      <td>0.709296</td>\n",
       "      <td>0.720879</td>\n",
       "      <td>0.670098</td>\n",
       "      <td>0.675134</td>\n",
       "      <td>0.613901</td>\n",
       "    </tr>\n",
       "    <tr>\n",
       "      <th>WBGene00000004</th>\n",
       "      <td>1.092941</td>\n",
       "      <td>1.065733</td>\n",
       "      <td>1.071365</td>\n",
       "      <td>1.042872</td>\n",
       "      <td>0.998946</td>\n",
       "      <td>1.019137</td>\n",
       "      <td>1.271236</td>\n",
       "      <td>1.284826</td>\n",
       "      <td>1.249739</td>\n",
       "      <td>1.218546</td>\n",
       "      <td>1.210817</td>\n",
       "      <td>1.207068</td>\n",
       "    </tr>\n",
       "    <tr>\n",
       "      <th>WBGene00000005</th>\n",
       "      <td>0.830347</td>\n",
       "      <td>0.761288</td>\n",
       "      <td>0.811208</td>\n",
       "      <td>0.908174</td>\n",
       "      <td>0.877077</td>\n",
       "      <td>0.892826</td>\n",
       "      <td>0.644879</td>\n",
       "      <td>0.612386</td>\n",
       "      <td>0.601191</td>\n",
       "      <td>0.717812</td>\n",
       "      <td>0.685274</td>\n",
       "      <td>0.738840</td>\n",
       "    </tr>\n",
       "  </tbody>\n",
       "</table>\n",
       "</div>"
      ],
      "text/plain": [
       "                cnt50.1_S1_L001_R1_001  cnt50.2_S2_L001_R1_001  \\\n",
       "WBGene00000001                1.804216                1.806938   \n",
       "WBGene00000002                0.584929                0.675659   \n",
       "WBGene00000003                1.055034                1.038837   \n",
       "WBGene00000004                1.092941                1.065733   \n",
       "WBGene00000005                0.830347                0.761288   \n",
       "\n",
       "                cnt50.3_S3_L001_R1_001  ascr50.1_S4_L001_R1_001  \\\n",
       "WBGene00000001                1.834171                 1.801196   \n",
       "WBGene00000002                0.795318                 0.699898   \n",
       "WBGene00000003                1.008447                 1.110409   \n",
       "WBGene00000004                1.071365                 1.042872   \n",
       "WBGene00000005                0.811208                 0.908174   \n",
       "\n",
       "                ascr50.2_S5_L001_R1_001  ascr50.3_S6_L001_R1_001  \\\n",
       "WBGene00000001                 1.803592                 1.794293   \n",
       "WBGene00000002                 0.631482                 0.679446   \n",
       "WBGene00000003                 1.082723                 1.075585   \n",
       "WBGene00000004                 0.998946                 1.019137   \n",
       "WBGene00000005                 0.877077                 0.892826   \n",
       "\n",
       "                cnt58.1_S7_L001_R1_001  cnt58.2_S8_L001_R1_001  \\\n",
       "WBGene00000001                1.932386                1.937716   \n",
       "WBGene00000002                0.252079                0.349814   \n",
       "WBGene00000003                0.743166                0.709296   \n",
       "WBGene00000004                1.271236                1.284826   \n",
       "WBGene00000005                0.644879                0.612386   \n",
       "\n",
       "                cnt58.3_S9_L001_R1_001  ascr58.1_S10_L001_R1_001  \\\n",
       "WBGene00000001                1.945838                  1.929080   \n",
       "WBGene00000002                0.390338                  0.414264   \n",
       "WBGene00000003                0.720879                  0.670098   \n",
       "WBGene00000004                1.249739                  1.218546   \n",
       "WBGene00000005                0.601191                  0.717812   \n",
       "\n",
       "                ascr58.2_S11_L001_R1_001  ascr58.3_S12_L001_R1_001  \n",
       "WBGene00000001                  1.927554                  1.943492  \n",
       "WBGene00000002                  0.334758                  0.401087  \n",
       "WBGene00000003                  0.675134                  0.613901  \n",
       "WBGene00000004                  1.210817                  1.207068  \n",
       "WBGene00000005                  0.685274                  0.738840  "
      ]
     },
     "execution_count": 43,
     "metadata": {},
     "output_type": "execute_result"
    }
   ],
   "source": [
    "c = [c for c in df.columns if 'tph1' not in c]\n",
    "df = df[c]\n",
    "df = df[sorted(df.columns)[-6:-3] + sorted(df.columns)[0:3] + sorted(df.columns)[-3:] + sorted(df.columns)[3:6]]\n",
    "df = np.log10(df / df.sum(axis=0) * 10 ** 6)\n",
    "df.head()"
   ]
  },
  {
   "cell_type": "code",
   "execution_count": 44,
   "id": "02217bb6",
   "metadata": {},
   "outputs": [],
   "source": [
    "treatment = {c: 'control' if 'cnt' in c else 'ascr' for c in df.columns}\n",
    "time = {c: '50' if '50' in c else '58' for c in df.columns}"
   ]
  },
  {
   "cell_type": "code",
   "execution_count": 45,
   "id": "e884d333",
   "metadata": {},
   "outputs": [],
   "source": [
    "melted = df.reset_index().melt(id_vars='index', var_name='Sample', value_name='counts')\n",
    "melted.rename({'index': 'ensembl_gene_id'}, axis=1, inplace=True)\n",
    "melted['treatment'] = melted.Sample.map(treatment)\n",
    "melted['time'] = melted.Sample.map(time)"
   ]
  },
  {
   "cell_type": "code",
   "execution_count": 46,
   "id": "dd6750db",
   "metadata": {},
   "outputs": [
    {
     "data": {
      "text/html": [
       "<div>\n",
       "<style scoped>\n",
       "    .dataframe tbody tr th:only-of-type {\n",
       "        vertical-align: middle;\n",
       "    }\n",
       "\n",
       "    .dataframe tbody tr th {\n",
       "        vertical-align: top;\n",
       "    }\n",
       "\n",
       "    .dataframe thead th {\n",
       "        text-align: right;\n",
       "    }\n",
       "</style>\n",
       "<table border=\"1\" class=\"dataframe\">\n",
       "  <thead>\n",
       "    <tr style=\"text-align: right;\">\n",
       "      <th></th>\n",
       "      <th>ensembl_gene_id</th>\n",
       "      <th>Sample</th>\n",
       "      <th>counts</th>\n",
       "      <th>treatment</th>\n",
       "      <th>time</th>\n",
       "    </tr>\n",
       "  </thead>\n",
       "  <tbody>\n",
       "    <tr>\n",
       "      <th>0</th>\n",
       "      <td>WBGene00000001</td>\n",
       "      <td>cnt50.1_S1_L001_R1_001</td>\n",
       "      <td>1.804216</td>\n",
       "      <td>control</td>\n",
       "      <td>50</td>\n",
       "    </tr>\n",
       "    <tr>\n",
       "      <th>1</th>\n",
       "      <td>WBGene00000002</td>\n",
       "      <td>cnt50.1_S1_L001_R1_001</td>\n",
       "      <td>0.584929</td>\n",
       "      <td>control</td>\n",
       "      <td>50</td>\n",
       "    </tr>\n",
       "    <tr>\n",
       "      <th>2</th>\n",
       "      <td>WBGene00000003</td>\n",
       "      <td>cnt50.1_S1_L001_R1_001</td>\n",
       "      <td>1.055034</td>\n",
       "      <td>control</td>\n",
       "      <td>50</td>\n",
       "    </tr>\n",
       "    <tr>\n",
       "      <th>3</th>\n",
       "      <td>WBGene00000004</td>\n",
       "      <td>cnt50.1_S1_L001_R1_001</td>\n",
       "      <td>1.092941</td>\n",
       "      <td>control</td>\n",
       "      <td>50</td>\n",
       "    </tr>\n",
       "    <tr>\n",
       "      <th>4</th>\n",
       "      <td>WBGene00000005</td>\n",
       "      <td>cnt50.1_S1_L001_R1_001</td>\n",
       "      <td>0.830347</td>\n",
       "      <td>control</td>\n",
       "      <td>50</td>\n",
       "    </tr>\n",
       "    <tr>\n",
       "      <th>...</th>\n",
       "      <td>...</td>\n",
       "      <td>...</td>\n",
       "      <td>...</td>\n",
       "      <td>...</td>\n",
       "      <td>...</td>\n",
       "    </tr>\n",
       "    <tr>\n",
       "      <th>555031</th>\n",
       "      <td>WBGene00304215</td>\n",
       "      <td>ascr58.3_S12_L001_R1_001</td>\n",
       "      <td>-0.954300</td>\n",
       "      <td>ascr</td>\n",
       "      <td>58</td>\n",
       "    </tr>\n",
       "    <tr>\n",
       "      <th>555032</th>\n",
       "      <td>WBGene00304219</td>\n",
       "      <td>ascr58.3_S12_L001_R1_001</td>\n",
       "      <td>-0.152988</td>\n",
       "      <td>ascr</td>\n",
       "      <td>58</td>\n",
       "    </tr>\n",
       "    <tr>\n",
       "      <th>555033</th>\n",
       "      <td>WBGene00304220</td>\n",
       "      <td>ascr58.3_S12_L001_R1_001</td>\n",
       "      <td>-0.285294</td>\n",
       "      <td>ascr</td>\n",
       "      <td>58</td>\n",
       "    </tr>\n",
       "    <tr>\n",
       "      <th>555034</th>\n",
       "      <td>WBGene00304237</td>\n",
       "      <td>ascr58.3_S12_L001_R1_001</td>\n",
       "      <td>-0.954300</td>\n",
       "      <td>ascr</td>\n",
       "      <td>58</td>\n",
       "    </tr>\n",
       "    <tr>\n",
       "      <th>555035</th>\n",
       "      <td>WBGene00304238</td>\n",
       "      <td>ascr58.3_S12_L001_R1_001</td>\n",
       "      <td>-inf</td>\n",
       "      <td>ascr</td>\n",
       "      <td>58</td>\n",
       "    </tr>\n",
       "  </tbody>\n",
       "</table>\n",
       "<p>555036 rows × 5 columns</p>\n",
       "</div>"
      ],
      "text/plain": [
       "       ensembl_gene_id                    Sample    counts treatment time\n",
       "0       WBGene00000001    cnt50.1_S1_L001_R1_001  1.804216   control   50\n",
       "1       WBGene00000002    cnt50.1_S1_L001_R1_001  0.584929   control   50\n",
       "2       WBGene00000003    cnt50.1_S1_L001_R1_001  1.055034   control   50\n",
       "3       WBGene00000004    cnt50.1_S1_L001_R1_001  1.092941   control   50\n",
       "4       WBGene00000005    cnt50.1_S1_L001_R1_001  0.830347   control   50\n",
       "...                ...                       ...       ...       ...  ...\n",
       "555031  WBGene00304215  ascr58.3_S12_L001_R1_001 -0.954300      ascr   58\n",
       "555032  WBGene00304219  ascr58.3_S12_L001_R1_001 -0.152988      ascr   58\n",
       "555033  WBGene00304220  ascr58.3_S12_L001_R1_001 -0.285294      ascr   58\n",
       "555034  WBGene00304237  ascr58.3_S12_L001_R1_001 -0.954300      ascr   58\n",
       "555035  WBGene00304238  ascr58.3_S12_L001_R1_001      -inf      ascr   58\n",
       "\n",
       "[555036 rows x 5 columns]"
      ]
     },
     "execution_count": 46,
     "metadata": {},
     "output_type": "execute_result"
    }
   ],
   "source": [
    "melted"
   ]
  },
  {
   "cell_type": "code",
   "execution_count": 47,
   "id": "15d200a2",
   "metadata": {},
   "outputs": [
    {
     "data": {
      "text/html": [
       "<div>\n",
       "<style scoped>\n",
       "    .dataframe tbody tr th:only-of-type {\n",
       "        vertical-align: middle;\n",
       "    }\n",
       "\n",
       "    .dataframe tbody tr th {\n",
       "        vertical-align: top;\n",
       "    }\n",
       "\n",
       "    .dataframe thead th {\n",
       "        text-align: right;\n",
       "    }\n",
       "</style>\n",
       "<table border=\"1\" class=\"dataframe\">\n",
       "  <thead>\n",
       "    <tr style=\"text-align: right;\">\n",
       "      <th></th>\n",
       "      <th>external_gene_name</th>\n",
       "      <th>log2FoldChange_50</th>\n",
       "      <th>padj_50</th>\n",
       "      <th>log2FoldChange_58</th>\n",
       "      <th>padj_58</th>\n",
       "    </tr>\n",
       "  </thead>\n",
       "  <tbody>\n",
       "    <tr>\n",
       "      <th>WBGene00004099</th>\n",
       "      <td>abu-15</td>\n",
       "      <td>-0.332996</td>\n",
       "      <td>3.957020e-05</td>\n",
       "      <td>-3.326630</td>\n",
       "      <td>0.000006</td>\n",
       "    </tr>\n",
       "    <tr>\n",
       "      <th>WBGene00000031</th>\n",
       "      <td>abu-8</td>\n",
       "      <td>-0.422472</td>\n",
       "      <td>5.151622e-12</td>\n",
       "      <td>-2.041212</td>\n",
       "      <td>0.000015</td>\n",
       "    </tr>\n",
       "    <tr>\n",
       "      <th>WBGene00004174</th>\n",
       "      <td>abu-14</td>\n",
       "      <td>-0.423656</td>\n",
       "      <td>1.983580e-18</td>\n",
       "      <td>-1.706014</td>\n",
       "      <td>0.000102</td>\n",
       "    </tr>\n",
       "    <tr>\n",
       "      <th>WBGene00000029</th>\n",
       "      <td>abu-6</td>\n",
       "      <td>-0.268529</td>\n",
       "      <td>1.188577e-02</td>\n",
       "      <td>-5.191661</td>\n",
       "      <td>0.004636</td>\n",
       "    </tr>\n",
       "    <tr>\n",
       "      <th>WBGene00000030</th>\n",
       "      <td>abu-7</td>\n",
       "      <td>-0.271373</td>\n",
       "      <td>5.722715e-03</td>\n",
       "      <td>-2.604683</td>\n",
       "      <td>0.006821</td>\n",
       "    </tr>\n",
       "    <tr>\n",
       "      <th>WBGene00000034</th>\n",
       "      <td>abu-11</td>\n",
       "      <td>-0.349769</td>\n",
       "      <td>7.128939e-08</td>\n",
       "      <td>-1.235353</td>\n",
       "      <td>0.046890</td>\n",
       "    </tr>\n",
       "  </tbody>\n",
       "</table>\n",
       "</div>"
      ],
      "text/plain": [
       "               external_gene_name  log2FoldChange_50       padj_50  \\\n",
       "WBGene00004099             abu-15          -0.332996  3.957020e-05   \n",
       "WBGene00000031              abu-8          -0.422472  5.151622e-12   \n",
       "WBGene00004174             abu-14          -0.423656  1.983580e-18   \n",
       "WBGene00000029              abu-6          -0.268529  1.188577e-02   \n",
       "WBGene00000030              abu-7          -0.271373  5.722715e-03   \n",
       "WBGene00000034             abu-11          -0.349769  7.128939e-08   \n",
       "\n",
       "                log2FoldChange_58   padj_58  \n",
       "WBGene00004099          -3.326630  0.000006  \n",
       "WBGene00000031          -2.041212  0.000015  \n",
       "WBGene00004174          -1.706014  0.000102  \n",
       "WBGene00000029          -5.191661  0.004636  \n",
       "WBGene00000030          -2.604683  0.006821  \n",
       "WBGene00000034          -1.235353  0.046890  "
      ]
     },
     "execution_count": 47,
     "metadata": {},
     "output_type": "execute_result"
    }
   ],
   "source": [
    "res[(res.padj_58 < 0.05) & (res.external_gene_name.str.contains('abu'))].sort_values('padj_58')[['external_gene_name', 'log2FoldChange_50', 'padj_50', 'log2FoldChange_58', 'padj_58']]"
   ]
  },
  {
   "cell_type": "code",
   "execution_count": 48,
   "id": "af743466",
   "metadata": {},
   "outputs": [
    {
     "data": {
      "text/plain": [
       "<AxesSubplot:xlabel='counts', ylabel='time'>"
      ]
     },
     "execution_count": 48,
     "metadata": {},
     "output_type": "execute_result"
    },
    {
     "data": {
      "image/png": "[encoded data removed]",
      "text/plain": [
       "<Figure size 432x288 with 1 Axes>"
      ]
     },
     "metadata": {
      "image/png": {
       "height": 274,
       "width": 394
      }
     },
     "output_type": "display_data"
    }
   ],
   "source": [
    "sns.stripplot(data=melted[melted.ensembl_gene_id == 'WBGene00009221'], x='counts', y='time', hue='treatment')"
   ]
  },
  {
   "cell_type": "code",
   "execution_count": 49,
   "id": "a92b1d26",
   "metadata": {},
   "outputs": [
    {
     "data": {
      "text/plain": [
       "<AxesSubplot:xlabel='counts', ylabel='time'>"
      ]
     },
     "execution_count": 49,
     "metadata": {},
     "output_type": "execute_result"
    },
    {
     "data": {
      "image/png": "[encoded data removed]",
      "text/plain": [
       "<Figure size 432x288 with 1 Axes>"
      ]
     },
     "metadata": {
      "image/png": {
       "height": 274,
       "width": 394
      }
     },
     "output_type": "display_data"
    }
   ],
   "source": [
    "sns.stripplot(data=melted[melted.ensembl_gene_id == 'WBGene00015048'], x='counts', y='time', hue='treatment')"
   ]
  },
  {
   "cell_type": "code",
   "execution_count": 50,
   "id": "ead5b115",
   "metadata": {},
   "outputs": [
    {
     "data": {
      "text/plain": [
       "<AxesSubplot:xlabel='counts', ylabel='time'>"
      ]
     },
     "execution_count": 50,
     "metadata": {},
     "output_type": "execute_result"
    },
    {
     "data": {
      "image/png": "[encoded data removed]",
      "text/plain": [
       "<Figure size 432x288 with 1 Axes>"
      ]
     },
     "metadata": {
      "image/png": {
       "height": 274,
       "width": 394
      }
     },
     "output_type": "display_data"
    }
   ],
   "source": [
    "sns.stripplot(data=melted[melted.ensembl_gene_id == 'WBGene00004099'], x='counts', y='time', hue='treatment')"
   ]
  },
  {
   "cell_type": "code",
   "execution_count": null,
   "id": "f77dc196",
   "metadata": {},
   "outputs": [],
   "source": []
  }
 ],
 "metadata": {
  "kernelspec": {
   "display_name": "Python 3",
   "language": "python",
   "name": "python3"
  },
  "language_info": {
   "codemirror_mode": {
    "name": "ipython",
    "version": 3
   },
   "file_extension": ".py",
   "mimetype": "text/x-python",
   "name": "python",
   "nbconvert_exporter": "python",
   "pygments_lexer": "ipython3",
   "version": "3.7.10"
  },
  "toc": {
   "base_numbering": 1,
   "nav_menu": {},
   "number_sections": true,
   "sideBar": true,
   "skip_h1_title": false,
   "title_cell": "Table of Contents",
   "title_sidebar": "Contents",
   "toc_cell": false,
   "toc_position": {},
   "toc_section_display": true,
   "toc_window_display": false
  }
 },
 "nbformat": 4,
 "nbformat_minor": 5
}
